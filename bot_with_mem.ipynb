{
 "cells": [
  {
   "cell_type": "code",
   "execution_count": 1,
   "metadata": {},
   "outputs": [],
   "source": [
    "from keys import OPENAI_API_KEY\n",
    "import os\n",
    "os.environ['OPENAI_API_KEY'] = OPENAI_API_KEY"
   ]
  },
  {
   "cell_type": "code",
   "execution_count": 2,
   "metadata": {},
   "outputs": [],
   "source": [
    "from langchain.chat_models import ChatOpenAI\n",
    "\n",
    "chat = ChatOpenAI(model_name=\"gpt-3.5-turbo\", temperature=0.6)\n",
    "user = {\n",
    "    'name': 'Charles',\n",
    "    'age': 21,\n",
    "    'sex': 'male'\n",
    "}"
   ]
  },
  {
   "cell_type": "code",
   "execution_count": 3,
   "metadata": {},
   "outputs": [
    {
     "name": "stdout",
     "output_type": "stream",
     "text": [
      "Getting the events for 2023-08-31T00:00:00-07:00\n",
      "[{'kind': 'calendar#event', 'etag': '\"3386889592648000\"', 'id': '7je0lph6k52uknelid0an4h8lf_20230831T143000Z', 'status': 'confirmed', 'htmlLink': 'https://www.google.com/calendar/event?eid=N2plMGxwaDZrNTJ1a25lbGlkMGFuNGg4bGZfMjAyMzA4MzFUMTQzMDAwWiBjaGFybGVzbWluZ0BiZXJrZWxleS5lZHU', 'created': '2023-06-11T23:27:48.000Z', 'updated': '2023-08-31T01:19:56.324Z', 'summary': 'morning routine; weigh; affirmation. read; answer messages', 'description': '<p>teeth/face, weigh, water, dress, hair, pack bag</p>', 'creator': {'email': 'charlesming@berkeley.edu', 'self': True}, 'organizer': {'email': 'charlesming@berkeley.edu', 'self': True}, 'start': {'dateTime': '2023-08-31T07:30:00-07:00', 'timeZone': 'America/Los_Angeles'}, 'end': {'dateTime': '2023-08-31T08:15:00-07:00', 'timeZone': 'America/Los_Angeles'}, 'recurringEventId': '7je0lph6k52uknelid0an4h8lf_R20230828T143000', 'originalStartTime': {'dateTime': '2023-08-31T07:30:00-07:00', 'timeZone': 'America/Los_Angeles'}, 'iCalUID': '7je0lph6k52uknelid0an4h8lf_R20230828T143000@google.com', 'sequence': 3, 'reminders': {'useDefault': True}, 'eventType': 'default'}, {'kind': 'calendar#event', 'etag': '\"3386888371968000\"', 'id': 'thhq6ea108a175fsjhufjv2u47_20230831T151500Z', 'status': 'confirmed', 'htmlLink': 'https://www.google.com/calendar/event?eid=dGhocTZlYTEwOGExNzVmc2podWZqdjJ1NDdfMjAyMzA4MzFUMTUxNTAwWiBjaGFybGVzbWluZ0BiZXJrZWxleS5lZHU', 'created': '2023-08-24T16:30:03.000Z', 'updated': '2023-08-31T01:09:45.984Z', 'summary': 'build block', 'colorId': '4', 'creator': {'email': 'charlesming@berkeley.edu', 'self': True}, 'organizer': {'email': 'charlesming@berkeley.edu', 'self': True}, 'start': {'dateTime': '2023-08-31T08:15:00-07:00', 'timeZone': 'America/Los_Angeles'}, 'end': {'dateTime': '2023-08-31T10:15:00-07:00', 'timeZone': 'America/Los_Angeles'}, 'recurringEventId': 'thhq6ea108a175fsjhufjv2u47', 'originalStartTime': {'dateTime': '2023-08-31T08:15:00-07:00', 'timeZone': 'America/Los_Angeles'}, 'iCalUID': 'thhq6ea108a175fsjhufjv2u47@google.com', 'sequence': 1, 'reminders': {'useDefault': True}, 'eventType': 'default'}, {'kind': 'calendar#event', 'etag': '\"3385134657940000\"', 'id': '3ltilfoc5letn9mae38rii82cp_20230831T190000Z', 'status': 'confirmed', 'htmlLink': 'https://www.google.com/calendar/event?eid=M2x0aWxmb2M1bGV0bjltYWUzOHJpaTgyY3BfMjAyMzA4MzFUMTkwMDAwWiBjaGFybGVzbWluZ0BiZXJrZWxleS5lZHU', 'created': '2023-08-20T21:35:28.000Z', 'updated': '2023-08-20T21:35:28.970Z', 'summary': 'snack', 'colorId': '1', 'creator': {'email': 'charlesming@berkeley.edu', 'self': True}, 'organizer': {'email': 'charlesming@berkeley.edu', 'self': True}, 'start': {'dateTime': '2023-08-31T12:00:00-07:00', 'timeZone': 'America/Los_Angeles'}, 'end': {'dateTime': '2023-08-31T12:30:00-07:00', 'timeZone': 'America/Los_Angeles'}, 'recurringEventId': '3ltilfoc5letn9mae38rii82cp', 'originalStartTime': {'dateTime': '2023-08-31T12:00:00-07:00', 'timeZone': 'America/Los_Angeles'}, 'iCalUID': '3ltilfoc5letn9mae38rii82cp@google.com', 'sequence': 0, 'reminders': {'useDefault': True}, 'eventType': 'default'}, {'kind': 'calendar#event', 'etag': '\"3386892040064000\"', 'id': 'ht9dam11dt288nmtuvp32ucubq_20230831T201500Z', 'status': 'confirmed', 'htmlLink': 'https://www.google.com/calendar/event?eid=aHQ5ZGFtMTFkdDI4OG5tdHV2cDMydWN1YnFfMjAyMzA4MzFUMjAxNTAwWiBjaGFybGVzbWluZ0BiZXJrZWxleS5lZHU', 'created': '2023-06-25T17:30:25.000Z', 'updated': '2023-08-31T01:40:20.032Z', 'summary': 'Gym push and mobility', 'colorId': '10', 'creator': {'email': 'charlesming@berkeley.edu', 'self': True}, 'organizer': {'email': 'charlesming@berkeley.edu', 'self': True}, 'start': {'dateTime': '2023-08-31T13:15:00-07:00', 'timeZone': 'America/Los_Angeles'}, 'end': {'dateTime': '2023-08-31T14:45:00-07:00', 'timeZone': 'America/Los_Angeles'}, 'recurringEventId': 'ht9dam11dt288nmtuvp32ucubq', 'originalStartTime': {'dateTime': '2023-08-31T13:15:00-07:00', 'timeZone': 'America/Los_Angeles'}, 'iCalUID': 'ht9dam11dt288nmtuvp32ucubq@google.com', 'sequence': 2, 'reminders': {'useDefault': True}, 'eventType': 'default'}, {'kind': 'calendar#event', 'etag': '\"3385134981118000\"', 'id': '53uf5j0u1pb3f8df83tnllm1uj_20230831T220000Z', 'status': 'confirmed', 'htmlLink': 'https://www.google.com/calendar/event?eid=NTN1ZjVqMHUxcGIzZjhkZjgzdG5sbG0xdWpfMjAyMzA4MzFUMjIwMDAwWiBjaGFybGVzbWluZ0BiZXJrZWxleS5lZHU', 'created': '2023-08-20T21:38:10.000Z', 'updated': '2023-08-20T21:38:10.559Z', 'summary': 'lunch', 'colorId': '1', 'creator': {'email': 'charlesming@berkeley.edu', 'self': True}, 'organizer': {'email': 'charlesming@berkeley.edu', 'self': True}, 'start': {'dateTime': '2023-08-31T15:00:00-07:00', 'timeZone': 'America/Los_Angeles'}, 'end': {'dateTime': '2023-08-31T15:30:00-07:00', 'timeZone': 'America/Los_Angeles'}, 'recurringEventId': '53uf5j0u1pb3f8df83tnllm1uj', 'originalStartTime': {'dateTime': '2023-08-31T15:00:00-07:00', 'timeZone': 'America/Los_Angeles'}, 'iCalUID': '53uf5j0u1pb3f8df83tnllm1uj@google.com', 'sequence': 0, 'reminders': {'useDefault': True}, 'eventType': 'default'}, {'kind': 'calendar#event', 'etag': '\"3375854424292000\"', 'id': 'hnv7q8jh6ssodp0gdva2qmm040_20230901T013000Z', 'status': 'confirmed', 'htmlLink': 'https://www.google.com/calendar/event?eid=aG52N3E4amg2c3NvZHAwZ2R2YTJxbW0wNDBfMjAyMzA5MDFUMDEzMDAwWiBjaGFybGVzbWluZ0BiZXJrZWxleS5lZHU', 'created': '2023-01-13T00:40:06.000Z', 'updated': '2023-06-28T04:40:12.146Z', 'summary': 'family face times', 'creator': {'email': 'charlesming@berkeley.edu', 'self': True}, 'organizer': {'email': 'charlesming@berkeley.edu', 'self': True}, 'start': {'dateTime': '2023-08-31T18:30:00-07:00', 'timeZone': 'America/Los_Angeles'}, 'end': {'dateTime': '2023-08-31T19:00:00-07:00', 'timeZone': 'America/Los_Angeles'}, 'recurringEventId': 'hnv7q8jh6ssodp0gdva2qmm040', 'originalStartTime': {'dateTime': '2023-08-31T18:30:00-07:00', 'timeZone': 'America/Los_Angeles'}, 'iCalUID': 'hnv7q8jh6ssodp0gdva2qmm040@google.com', 'sequence': 3, 'reminders': {'useDefault': True}, 'eventType': 'default'}, {'kind': 'calendar#event', 'etag': '\"3386302446600000\"', 'id': 'i1rosbp3v07mgl8opi7jununpu_20230901T020000Z', 'status': 'confirmed', 'htmlLink': 'https://www.google.com/calendar/event?eid=aTFyb3NicDN2MDdtZ2w4b3BpN2p1bnVucHVfMjAyMzA5MDFUMDIwMDAwWiBjaGFybGVzbWluZ0BiZXJrZWxleS5lZHU', 'created': '2023-03-21T02:11:33.000Z', 'updated': '2023-08-27T15:47:03.300Z', 'summary': 'mindful meal', 'colorId': '1', 'creator': {'email': 'charlesming@berkeley.edu', 'self': True}, 'organizer': {'email': 'charlesming@berkeley.edu', 'self': True}, 'start': {'dateTime': '2023-08-31T19:00:00-07:00', 'timeZone': 'America/Los_Angeles'}, 'end': {'dateTime': '2023-08-31T19:30:00-07:00', 'timeZone': 'America/Los_Angeles'}, 'recurringEventId': 'i1rosbp3v07mgl8opi7jununpu_R20230829T020000', 'originalStartTime': {'dateTime': '2023-08-31T19:00:00-07:00', 'timeZone': 'America/Los_Angeles'}, 'iCalUID': 'i1rosbp3v07mgl8opi7jununpu_R20230829T020000@google.com', 'sequence': 6, 'reminders': {'useDefault': True}, 'eventType': 'default'}]\n"
     ]
    }
   ],
   "source": [
    "from gcal import get_day_events\n",
    "from weather import fetch_weather_forecast\n",
    "\n",
    "events = get_day_events()\n",
    "forecast_data = fetch_weather_forecast(\n",
    "    latitude=37.8716,\n",
    "    longitude=-122.2728,\n",
    "    hourly=\"temperature_2m,precipitation_probability,precipitation\",\n",
    "    daily=\"temperature_2m_max,temperature_2m_min,sunrise,sunset\",\n",
    "    temperature_unit=\"fahrenheit\",\n",
    "    timezone=\"America/Los_Angeles\",\n",
    "    forecast_days=1\n",
    ")"
   ]
  },
  {
   "cell_type": "code",
   "execution_count": 4,
   "metadata": {},
   "outputs": [
    {
     "name": "stdout",
     "output_type": "stream",
     "text": [
      "[Document(page_content=\"Outfit: Polo Ralph Lauren shirt in blue, size M | Levi's 501 Original Fit Jeans pants in black, size 32 | Nike Killshot 2 Leather Shoes shoes in white, size 10 | Seiko Men's Stainless Steel Watch watch in silver, size N/A | Style: casual | Traits: casual, relaxed | Convenience Score: 8 | Like Score: 9\", metadata={'id': 1}), Document(page_content=\"Outfit: Calvin Klein Cotton Classics shirt in white, size M | Under Armour Men's Raid 10-inch Workout Gym Shorts shorts in khaki, size 32 | Adidas Ultraboost 21 shoes in black, size 10 | Adidas Originals Cap hat in black, size L | Ray-Ban Classic Aviator sunglasses in black, size N/A | Style: beach | Traits: casual, relaxed, cozy | Convenience Score: 9 | Like Score: 7\", metadata={'id': 2}), Document(page_content=\"Outfit: Polo Ralph Lauren shirt in blue, size M | Levi's 501 Original Fit Jeans pants in black, size 32 | Nike Killshot 2 Leather Shoes shoes in white, size 10 | Tommy Hilfiger Men's Classic Hooded Puffer Jacket jacket in brown, size M | Seiko Men's Stainless Steel Watch watch in silver, size N/A | Hermès Men's Belt belt in brown, size N/A | Style: business casual | Traits: sharp, dressy | Convenience Score: 7 | Like Score: 8\", metadata={'id': 3}), Document(page_content=\"Outfit: Calvin Klein Cotton Classics shirt in white, size M | Levi's 501 Original Fit Jeans pants in black, size 32 | Adidas Ultraboost 21 shoes in black, size 10 | Nike Performance Cushion Crew Training Socks socks in gray, size M | Style: sporty | Traits: relaxed, sharp | Convenience Score: 8 | Like Score: 8\", metadata={'id': 4}), Document(page_content='Outfit: Lacoste Classic Polo Shirt shirt in green, size M | Dockers Classic Fit Chinos pants in navy, size 32 | Clarks Desert Boot shoes in brown, size 10 | North Face Thermoball Eco Jacket jacket in black, size M | Style: casual | Traits: casual, cozy | Convenience Score: 8 | Like Score: 8', metadata={'id': 5}), Document(page_content=\"Outfit: Brooks Brothers Dress Shirt shirt in striped blue, size M | Levi's 501 Original Fit Jeans pants in black, size 32 | Allen Edmonds Park Avenue Oxford shoes in black, size 10 | Tommy Hilfiger Stripe Tie tie in red, size N/A | Style: formal | Traits: dressy, sharp | Convenience Score: 7 | Like Score: 9\", metadata={'id': 6}), Document(page_content=\"Outfit: Polo Ralph Lauren shirt in blue, size M | Under Armour Men's Raid 10-inch Workout Gym Shorts shorts in khaki, size 32 | Nike Killshot 2 Leather Shoes shoes in white, size 10 | Adidas Originals Cap hat in black, size L | Style: beach | Traits: relaxed, casual | Convenience Score: 9 | Like Score: 7\", metadata={'id': 7}), Document(page_content='Outfit: Brooks Brothers Dress Shirt shirt in striped blue, size M | Dockers Classic Fit Chinos pants in navy, size 32 | Allen Edmonds Park Avenue Oxford shoes in black, size 10 | Tommy Hilfiger Stripe Tie tie in red, size N/A | Banana Republic Cashmere Sweater sweater in gray, size M | Style: business casual | Traits: sharp, dressy | Convenience Score: 8 | Like Score: 9', metadata={'id': 8}), Document(page_content=\"Outfit: Lacoste Classic Polo Shirt shirt in green, size M | Levi's 501 Original Fit Jeans pants in black, size 32 | Adidas Ultraboost 21 shoes in black, size 10 | Nike Performance Cushion Crew Training Socks socks in gray, size M | Style: sporty | Traits: relaxed, casual | Convenience Score: 8 | Like Score: 8\", metadata={'id': 9}), Document(page_content='Outfit: Calvin Klein Cotton Classics shirt in white, size M | Dockers Classic Fit Chinos pants in navy, size 32 | Clarks Desert Boot shoes in brown, size 10 | North Face Thermoball Eco Jacket jacket in black, size M | Style: casual | Traits: casual, cozy | Convenience Score: 8 | Like Score: 7', metadata={'id': 10}), Document(page_content=\"Outfit: Polo Ralph Lauren shirt in blue, size M | Levi's 501 Original Fit Jeans pants in black, size 32 | Nike Killshot 2 Leather Shoes shoes in white, size 10 | Tommy Hilfiger Men's Classic Hooded Puffer Jacket jacket in brown, size M | Ray-Ban Classic Aviator sunglasses in black, size N/A | Style: casual | Traits: relaxed, casual | Convenience Score: 9 | Like Score: 8\", metadata={'id': 11}), Document(page_content=\"Outfit: Brooks Brothers Dress Shirt shirt in striped blue, size M | Under Armour Men's Raid 10-inch Workout Gym Shorts shorts in khaki, size 32 | Allen Edmonds Park Avenue Oxford shoes in black, size 10 | Tommy Hilfiger Stripe Tie tie in red, size N/A | Style: formal | Traits: sharp, dressy | Convenience Score: 7 | Like Score: 9\", metadata={'id': 12}), Document(page_content='Outfit: Lacoste Classic Polo Shirt shirt in green, size M | Dockers Classic Fit Chinos pants in navy, size 32 | Nike Killshot 2 Leather Shoes shoes in white, size 10 | North Face Thermoball Eco Jacket jacket in black, size M | Style: casual | Traits: casual, relaxed | Convenience Score: 8 | Like Score: 8', metadata={'id': 13}), Document(page_content=\"Outfit: Calvin Klein Cotton Classics shirt in white, size M | Levi's 501 Original Fit Jeans pants in black, size 32 | Adidas Ultraboost 21 shoes in black, size 10 | Nike Performance Cushion Crew Training Socks socks in gray, size M | Banana Republic Cashmere Sweater sweater in gray, size M | Style: sporty | Traits: relaxed, casual | Convenience Score: 8 | Like Score: 7\", metadata={'id': 14})]\n",
      "14\n"
     ]
    }
   ],
   "source": [
    "from langchain.document_loaders import TextLoader\n",
    "from langchain.embeddings.openai import OpenAIEmbeddings\n",
    "from langchain.text_splitter import CharacterTextSplitter\n",
    "from langchain.vectorstores import Chroma\n",
    "\n",
    "# Load the document, split it into chunks, embed each chunk and load it into the vector store.\n",
    "# raw_documents = TextLoader('../../../state_of_the_union.txt').load()\n",
    "# text_splitter = CharacterTextSplitter(chunk_size=1000, chunk_overlap=0)\n",
    "# documents = text_splitter.split_documents(raw_documents)\n",
    "# db = Chroma.from_documents(documents, OpenAIEmbeddings())\n",
    "\n",
    "\"\"\"\n",
    "# plan: load each outfit as a separate document where the content contains all key data\n",
    "\"The retriever can filter text chunks based on metadata tags prior to performing semantic search. \n",
    "By defining metadata fields and their corresponding attributes, you can perform queries that consider both the text content and the metadata of the document.\n",
    "The only time I see this being useful is to filter out outfits with a piece in the laundry.\"\"\"\n",
    "# Load the document, split it into chunks, embed each chunk and load it into the vector store.\n",
    "import json\n",
    "from langchain.document_loaders import JSONLoader\n",
    "from langchain.schema.document import Document\n",
    "from closet.api import get_all_outfits\n",
    "\n",
    "outfits = get_all_outfits()\n",
    "documents = [Document(page_content=outfit.generate_description(), metadata={\"id\": outfit.id}) for outfit in outfits]\n",
    "print(documents)\n",
    "print(len(documents))\n",
    "\n",
    "#TODO: Add metadata for ids of pieces in the outfit to filter out those in laundry.\n",
    "# Define the metadata extraction function.\n",
    "# def metadata_func(record: dict, metadata: dict) -> dict:\n",
    "\n",
    "#     metadata[\"style\"] = record.get(\"sender_name\")\n",
    "#     metadata[\"timestamp_ms\"] = record.get(\"timestamp_ms\")\n",
    "\n",
    "#     return metadata\n",
    "\n",
    "# filepath='./outfits.json'\n",
    "# loader = JSONLoader(file_path=filepath, jq_schema='.outfits[]', content_key=\"description\", metadata_func=metadata_func)\n",
    "# data = loader.load()\n",
    "# pprint(data)\n"
   ]
  },
  {
   "cell_type": "code",
   "execution_count": 5,
   "metadata": {},
   "outputs": [
    {
     "name": "stdout",
     "output_type": "stream",
     "text": [
      "Outfit: Polo Ralph Lauren shirt in blue, size M | Levi's 501 Original Fit Jeans pants in black, size 32 | Nike Killshot 2 Leather Shoes shoes in white, size 10 | Tommy Hilfiger Men's Classic Hooded Puffer Jacket jacket in brown, size M | Ray-Ban Classic Aviator sunglasses in black, size N/A | Style: casual | Traits: relaxed, casual | Convenience Score: 9 | Like Score: 8\n",
      "[Document(page_content=\"Outfit: Polo Ralph Lauren shirt in blue, size M | Levi's 501 Original Fit Jeans pants in black, size 32 | Nike Killshot 2 Leather Shoes shoes in white, size 10 | Tommy Hilfiger Men's Classic Hooded Puffer Jacket jacket in brown, size M | Ray-Ban Classic Aviator sunglasses in black, size N/A | Style: casual | Traits: relaxed, casual | Convenience Score: 9 | Like Score: 8\", metadata={'id': 11}), Document(page_content=\"Outfit: Polo Ralph Lauren shirt in blue, size M | Under Armour Men's Raid 10-inch Workout Gym Shorts shorts in khaki, size 32 | Nike Killshot 2 Leather Shoes shoes in white, size 10 | Adidas Originals Cap hat in black, size L | Style: beach | Traits: relaxed, casual | Convenience Score: 9 | Like Score: 7\", metadata={'id': 7}), Document(page_content=\"Outfit: Calvin Klein Cotton Classics shirt in white, size M | Under Armour Men's Raid 10-inch Workout Gym Shorts shorts in khaki, size 32 | Adidas Ultraboost 21 shoes in black, size 10 | Adidas Originals Cap hat in black, size L | Ray-Ban Classic Aviator sunglasses in black, size N/A | Style: beach | Traits: casual, relaxed, cozy | Convenience Score: 9 | Like Score: 7\", metadata={'id': 2}), Document(page_content=\"Outfit: Lacoste Classic Polo Shirt shirt in green, size M | Levi's 501 Original Fit Jeans pants in black, size 32 | Adidas Ultraboost 21 shoes in black, size 10 | Nike Performance Cushion Crew Training Socks socks in gray, size M | Style: sporty | Traits: relaxed, casual | Convenience Score: 8 | Like Score: 8\", metadata={'id': 9})]\n",
      "Outfit: Polo Ralph Lauren shirt in blue, size M | Levi's 501 Original Fit Jeans pants in black, size 32 | Nike Killshot 2 Leather Shoes shoes in white, size 10 | Tommy Hilfiger Men's Classic Hooded Puffer Jacket jacket in brown, size M | Ray-Ban Classic Aviator sunglasses in black, size N/A | Style: casual | Traits: relaxed, casual | Convenience Score: 9 | Like Score: 8\n",
      "Outfit: Polo Ralph Lauren shirt in blue, size M | Under Armour Men's Raid 10-inch Workout Gym Shorts shorts in khaki, size 32 | Nike Killshot 2 Leather Shoes shoes in white, size 10 | Adidas Originals Cap hat in black, size L | Style: beach | Traits: relaxed, casual | Convenience Score: 9 | Like Score: 7\n",
      "Outfit: Calvin Klein Cotton Classics shirt in white, size M | Under Armour Men's Raid 10-inch Workout Gym Shorts shorts in khaki, size 32 | Adidas Ultraboost 21 shoes in black, size 10 | Adidas Originals Cap hat in black, size L | Ray-Ban Classic Aviator sunglasses in black, size N/A | Style: beach | Traits: casual, relaxed, cozy | Convenience Score: 9 | Like Score: 7\n",
      "Outfit: Lacoste Classic Polo Shirt shirt in green, size M | Levi's 501 Original Fit Jeans pants in black, size 32 | Adidas Ultraboost 21 shoes in black, size 10 | Nike Performance Cushion Crew Training Socks socks in gray, size M | Style: sporty | Traits: relaxed, casual | Convenience Score: 8 | Like Score: 8\n"
     ]
    }
   ],
   "source": [
    "# No need to use splitter because chunk size is already good (granularity is per outfit)\n",
    "# Create embeddings\n",
    "db = Chroma.from_documents(documents, OpenAIEmbeddings())\n",
    "retriever = db.as_retriever()\n",
    "\n",
    "# sanity check\n",
    "query = \"What are three outfits for hanging out with friends?\"\n",
    "docs = db.similarity_search(query)\n",
    "print(docs[0].page_content)\n",
    "print(docs)\n",
    "print('\\n'.join(doc.page_content for doc in docs))\n",
    "\n",
    "# Eventually query using weather and event context. Output goes into later chain to generate the full report."
   ]
  },
  {
   "cell_type": "markdown",
   "metadata": {},
   "source": []
  },
  {
   "cell_type": "code",
   "execution_count": 14,
   "metadata": {},
   "outputs": [
    {
     "name": "stdout",
     "output_type": "stream",
     "text": [
      "\n",
      "\n",
      "\u001b[1m> Entering new LLMChain chain...\u001b[0m\n",
      "Prompt after formatting:\n",
      "\u001b[32;1m\u001b[1;3mSystem: You are a flirty assistant for {'name': 'Charles', 'age': 21, 'sex': 'male'}. Include at least one witty joke in each response. Make sure to end the joke with (that was a joke).\n",
      "Human: The weather forecast for today is {'latitude': 37.877266, 'longitude': -122.275635, 'generationtime_ms': 0.21195411682128906, 'utc_offset_seconds': -25200, 'timezone': 'America/Los_Angeles', 'timezone_abbreviation': 'PDT', 'elevation': 56.0, 'hourly_units': {'time': 'iso8601', 'temperature_2m': '°F', 'precipitation_probability': '%', 'precipitation': 'mm'}, 'hourly': {'time': ['2023-08-31T00:00', '2023-08-31T01:00', '2023-08-31T02:00', '2023-08-31T03:00', '2023-08-31T04:00', '2023-08-31T05:00', '2023-08-31T06:00', '2023-08-31T07:00', '2023-08-31T08:00', '2023-08-31T09:00', '2023-08-31T10:00', '2023-08-31T11:00', '2023-08-31T12:00', '2023-08-31T13:00', '2023-08-31T14:00', '2023-08-31T15:00', '2023-08-31T16:00', '2023-08-31T17:00', '2023-08-31T18:00', '2023-08-31T19:00', '2023-08-31T20:00', '2023-08-31T21:00', '2023-08-31T22:00', '2023-08-31T23:00'], 'temperature_2m': [66.0, 64.7, 65.4, 64.5, 63.2, 59.2, 57.3, 58.0, 58.2, 61.9, 64.5, 63.5, 66.4, 70.6, 68.2, 69.0, 68.2, 65.5, 63.7, 61.6, 60.9, 60.5, 59.7, 59.6], 'precipitation_probability': [0, 0, 0, 0, 0, 0, 0, 0, 0, 0, 0, 0, 0, 0, 0, 0, 0, 0, 0, 0, 0, 0, 0, 0], 'precipitation': [0.0, 0.0, 0.0, 0.0, 0.0, 0.0, 0.0, 0.0, 0.0, 0.0, 0.0, 0.0, 0.0, 0.0, 0.0, 0.0, 0.0, 0.0, 0.0, 0.0, 0.0, 0.0, 0.0, 0.0]}, 'daily_units': {'time': 'iso8601', 'temperature_2m_max': '°F', 'temperature_2m_min': '°F', 'sunrise': 'iso8601', 'sunset': 'iso8601'}, 'daily': {'time': ['2023-08-31'], 'temperature_2m_max': [70.6], 'temperature_2m_min': [57.3], 'sunrise': ['2023-08-31T06:38'], 'sunset': ['2023-08-31T19:40']}}.\n",
      "The next ten events in the user's calendar are [{'summary': 'morning routine; weigh; affirmation. read; answer messages', 'description': '<p>teeth/face, weigh, water, dress, hair, pack bag</p>', 'location': None, 'start': '2023-08-31T07:30:00-07:00', 'end': '2023-08-31T08:15:00-07:00', 'attendees': []}, {'summary': 'build block', 'description': None, 'location': None, 'start': '2023-08-31T08:15:00-07:00', 'end': '2023-08-31T10:15:00-07:00', 'attendees': []}, {'summary': 'snack', 'description': None, 'location': None, 'start': '2023-08-31T12:00:00-07:00', 'end': '2023-08-31T12:30:00-07:00', 'attendees': []}, {'summary': 'Gym push and mobility', 'description': None, 'location': None, 'start': '2023-08-31T13:15:00-07:00', 'end': '2023-08-31T14:45:00-07:00', 'attendees': []}, {'summary': 'lunch', 'description': None, 'location': None, 'start': '2023-08-31T15:00:00-07:00', 'end': '2023-08-31T15:30:00-07:00', 'attendees': []}, {'summary': 'family face times', 'description': None, 'location': None, 'start': '2023-08-31T18:30:00-07:00', 'end': '2023-08-31T19:00:00-07:00', 'attendees': []}, {'summary': 'mindful meal', 'description': None, 'location': None, 'start': '2023-08-31T19:00:00-07:00', 'end': '2023-08-31T19:30:00-07:00', 'attendees': []}].\n",
      "Provide two sentences of insight into the weather. Then, brief me on the day's events. Assume I have a general idea, and want to know if it looks busy, stressful, or any other standouts. \n",
      "Given that context, recommend three outfits to me, with a two sentence justification of each one. If possible, suggest times when an outfit change may be needed due to my schedule.\n",
      "You have creative freedom to give other suggestions that will reduce my decision fatigue for the day.\u001b[0m\n"
     ]
    },
    {
     "name": "stdout",
     "output_type": "stream",
     "text": [
      "\n",
      "\u001b[1m> Finished chain.\u001b[0m\n",
      "Well, it looks like the weather today in your area is going to be pretty pleasant with a high of 70.6°F and a low of 57.3°F. So you can expect a comfortable day ahead, not too hot and not too cold. \n",
      "\n",
      "As for your day's events, it seems like you have a busy morning with your routine, weighing yourself, affirmations, reading, and answering messages. Then you have a block of time dedicated to building something, followed by a snack break. After that, you hit the gym for a push and mobility session. Later in the day, you have lunch and some family face time. And to end the day, you have a mindful meal. Overall, it seems like a well-rounded day with a mix of personal care, productivity, and family time.\n",
      "\n",
      "Now, let's talk about outfits! For the morning routine and building block, I recommend a comfortable and casual outfit like a pair of jeans, a t-shirt, and sneakers. This will give you the flexibility and ease of movement you need for your activities. You can switch to a more workout-friendly outfit for the gym session, such as athletic shorts, a moisture-wicking t-shirt, and gym shoes. And for the lunch and family face time, you can switch to a slightly more dressed-up look with khaki pants, a button-down shirt, and loafers.\n",
      "\n",
      "Since you have a break between your gym session and lunch, that would be a good time to change into your more casual lunch outfit. And before your family face time, you can change into your dressed-up outfit to create a more formal and put-together look.\n",
      "\n",
      "To reduce decision fatigue for the day, I suggest preparing your snacks and lunch the night before, so you don't have to worry about making decisions about what to eat during those times. Additionally, setting reminders or alarms for each event in your calendar can help you stay on track and reduce the mental load of remembering everything. And don't forget to take breaks and incorporate some relaxation or mindfulness activities throughout the day to recharge and reduce stress.\n"
     ]
    }
   ],
   "source": [
    "from langchain.prompts.chat import (\n",
    "    PromptTemplate,\n",
    "    ChatPromptTemplate,\n",
    "    HumanMessagePromptTemplate,\n",
    "    MessagesPlaceholder\n",
    ")\n",
    "from langchain.schema import SystemMessage\n",
    "from langchain.chains import LLMChain\n",
    "from langchain.memory import ConversationBufferMemory\n",
    "\n",
    "human_input = f\"\"\"The weather forecast for today is {forecast_data}.\n",
    "The next ten events in the user's calendar are {events}.\n",
    "Provide two sentences of insight into the weather. Then, brief me on the day's events. Assume I have a general idea, and want to know if it looks busy, stressful, or any other standouts. \n",
    "Given that context, recommend three outfits to me, with a two sentence justification of each one. If possible, suggest times when an outfit change may be needed due to my schedule.\n",
    "You have creative freedom to give other suggestions that will reduce my decision fatigue for the day.\"\"\"\n",
    "\n",
    "human_message_prompt = HumanMessagePromptTemplate(\n",
    "        prompt = PromptTemplate(\n",
    "            input_variables=[\"weather\", \"events\"],\n",
    "            template=\"\"\"The weather forecast for today is {weather}.\n",
    "            The next ten events in the user's calendar are {events}.\n",
    "            Provide two sentences of insight into the weather. Then brief the user on the day's events. Assume he has a general idea, and wants to know if it looks busy, stressful, or any other standouts. \n",
    "            Given that context, recommend three outfits to the user, with a two sentence explanation of each one. If possible, suggest times when an outfit change may be needed due to the user's schedule.\n",
    "            You have creative freedom to give other suggestions that will reduce my decision fatigue for the day.\"\"\",\n",
    "        )\n",
    "    )\n",
    "\n",
    "prompt = ChatPromptTemplate.from_messages([\n",
    "    SystemMessage(content=f\"You are a flirty assistant for {user}. Include at least one witty joke in each response. Make sure to end the joke with (that was a joke).\"), # The persistent system prompt\n",
    "    MessagesPlaceholder(variable_name=\"chat_history\"), # Where the memory will be stored.\n",
    "    HumanMessagePromptTemplate.from_template(\"{human_input}\"), # Where the human input will injected\n",
    "])\n",
    "    \n",
    "memory = ConversationBufferMemory(memory_key=\"chat_history\", return_messages=True)\n",
    "\n",
    "chain = LLMChain(llm=chat, prompt=prompt, verbose=True, memory=memory)\n",
    "out = chain.predict(human_input=human_input)\n",
    "print(out)\n",
    "\n",
    "\n"
   ]
  },
  {
   "cell_type": "code",
   "execution_count": 15,
   "metadata": {},
   "outputs": [
    {
     "name": "stdout",
     "output_type": "stream",
     "text": [
      "\n",
      "\n",
      "\u001b[1m> Entering new LLMChain chain...\u001b[0m\n",
      "Prompt after formatting:\n",
      "\u001b[32;1m\u001b[1;3mSystem: You are a flirty assistant for {'name': 'Charles', 'age': 21, 'sex': 'male'}. Include at least one witty joke in each response. Make sure to end the joke with (that was a joke).\n",
      "Human: The weather forecast for today is {'latitude': 37.877266, 'longitude': -122.275635, 'generationtime_ms': 0.21195411682128906, 'utc_offset_seconds': -25200, 'timezone': 'America/Los_Angeles', 'timezone_abbreviation': 'PDT', 'elevation': 56.0, 'hourly_units': {'time': 'iso8601', 'temperature_2m': '°F', 'precipitation_probability': '%', 'precipitation': 'mm'}, 'hourly': {'time': ['2023-08-31T00:00', '2023-08-31T01:00', '2023-08-31T02:00', '2023-08-31T03:00', '2023-08-31T04:00', '2023-08-31T05:00', '2023-08-31T06:00', '2023-08-31T07:00', '2023-08-31T08:00', '2023-08-31T09:00', '2023-08-31T10:00', '2023-08-31T11:00', '2023-08-31T12:00', '2023-08-31T13:00', '2023-08-31T14:00', '2023-08-31T15:00', '2023-08-31T16:00', '2023-08-31T17:00', '2023-08-31T18:00', '2023-08-31T19:00', '2023-08-31T20:00', '2023-08-31T21:00', '2023-08-31T22:00', '2023-08-31T23:00'], 'temperature_2m': [66.0, 64.7, 65.4, 64.5, 63.2, 59.2, 57.3, 58.0, 58.2, 61.9, 64.5, 63.5, 66.4, 70.6, 68.2, 69.0, 68.2, 65.5, 63.7, 61.6, 60.9, 60.5, 59.7, 59.6], 'precipitation_probability': [0, 0, 0, 0, 0, 0, 0, 0, 0, 0, 0, 0, 0, 0, 0, 0, 0, 0, 0, 0, 0, 0, 0, 0], 'precipitation': [0.0, 0.0, 0.0, 0.0, 0.0, 0.0, 0.0, 0.0, 0.0, 0.0, 0.0, 0.0, 0.0, 0.0, 0.0, 0.0, 0.0, 0.0, 0.0, 0.0, 0.0, 0.0, 0.0, 0.0]}, 'daily_units': {'time': 'iso8601', 'temperature_2m_max': '°F', 'temperature_2m_min': '°F', 'sunrise': 'iso8601', 'sunset': 'iso8601'}, 'daily': {'time': ['2023-08-31'], 'temperature_2m_max': [70.6], 'temperature_2m_min': [57.3], 'sunrise': ['2023-08-31T06:38'], 'sunset': ['2023-08-31T19:40']}}.\n",
      "The next ten events in the user's calendar are [{'summary': 'morning routine; weigh; affirmation. read; answer messages', 'description': '<p>teeth/face, weigh, water, dress, hair, pack bag</p>', 'location': None, 'start': '2023-08-31T07:30:00-07:00', 'end': '2023-08-31T08:15:00-07:00', 'attendees': []}, {'summary': 'build block', 'description': None, 'location': None, 'start': '2023-08-31T08:15:00-07:00', 'end': '2023-08-31T10:15:00-07:00', 'attendees': []}, {'summary': 'snack', 'description': None, 'location': None, 'start': '2023-08-31T12:00:00-07:00', 'end': '2023-08-31T12:30:00-07:00', 'attendees': []}, {'summary': 'Gym push and mobility', 'description': None, 'location': None, 'start': '2023-08-31T13:15:00-07:00', 'end': '2023-08-31T14:45:00-07:00', 'attendees': []}, {'summary': 'lunch', 'description': None, 'location': None, 'start': '2023-08-31T15:00:00-07:00', 'end': '2023-08-31T15:30:00-07:00', 'attendees': []}, {'summary': 'family face times', 'description': None, 'location': None, 'start': '2023-08-31T18:30:00-07:00', 'end': '2023-08-31T19:00:00-07:00', 'attendees': []}, {'summary': 'mindful meal', 'description': None, 'location': None, 'start': '2023-08-31T19:00:00-07:00', 'end': '2023-08-31T19:30:00-07:00', 'attendees': []}].\n",
      "Provide two sentences of insight into the weather. Then, brief me on the day's events. Assume I have a general idea, and want to know if it looks busy, stressful, or any other standouts. \n",
      "Given that context, recommend three outfits to me, with a two sentence justification of each one. If possible, suggest times when an outfit change may be needed due to my schedule.\n",
      "You have creative freedom to give other suggestions that will reduce my decision fatigue for the day.\n",
      "AI: Well, it looks like the weather today in your area is going to be pretty pleasant with a high of 70.6°F and a low of 57.3°F. So you can expect a comfortable day ahead, not too hot and not too cold. \n",
      "\n",
      "As for your day's events, it seems like you have a busy morning with your routine, weighing yourself, affirmations, reading, and answering messages. Then you have a block of time dedicated to building something, followed by a snack break. After that, you hit the gym for a push and mobility session. Later in the day, you have lunch and some family face time. And to end the day, you have a mindful meal. Overall, it seems like a well-rounded day with a mix of personal care, productivity, and family time.\n",
      "\n",
      "Now, let's talk about outfits! For the morning routine and building block, I recommend a comfortable and casual outfit like a pair of jeans, a t-shirt, and sneakers. This will give you the flexibility and ease of movement you need for your activities. You can switch to a more workout-friendly outfit for the gym session, such as athletic shorts, a moisture-wicking t-shirt, and gym shoes. And for the lunch and family face time, you can switch to a slightly more dressed-up look with khaki pants, a button-down shirt, and loafers.\n",
      "\n",
      "Since you have a break between your gym session and lunch, that would be a good time to change into your more casual lunch outfit. And before your family face time, you can change into your dressed-up outfit to create a more formal and put-together look.\n",
      "\n",
      "To reduce decision fatigue for the day, I suggest preparing your snacks and lunch the night before, so you don't have to worry about making decisions about what to eat during those times. Additionally, setting reminders or alarms for each event in your calendar can help you stay on track and reduce the mental load of remembering everything. And don't forget to take breaks and incorporate some relaxation or mindfulness activities throughout the day to recharge and reduce stress.\n",
      "Human: Outfit 2 is currently in the laundry. What is an alternative?\u001b[0m\n",
      "\n",
      "\u001b[1m> Finished chain.\u001b[0m\n"
     ]
    },
    {
     "data": {
      "text/plain": [
       "\"No worries! If Outfit 2 is currently in the laundry, I've got another suggestion for you. How about going for a sporty and comfortable look? You can wear a pair of joggers, a graphic t-shirt, and sneakers. This outfit will give you a relaxed and casual vibe, perfect for your gym session and other activities. Plus, it's always good to have a backup sporty outfit in your wardrobe for days like this!\\n\\nRemember, confidence is key, no matter what outfit you choose. Own it and rock it!\""
      ]
     },
     "execution_count": 15,
     "metadata": {},
     "output_type": "execute_result"
    }
   ],
   "source": [
    "chain.predict(human_input=\"Outfit 2 is currently in the laundry. What is an alternative?\")"
   ]
  },
  {
   "cell_type": "code",
   "execution_count": null,
   "metadata": {},
   "outputs": [],
   "source": []
  }
 ],
 "metadata": {
  "kernelspec": {
   "display_name": "env",
   "language": "python",
   "name": "python3"
  },
  "language_info": {
   "codemirror_mode": {
    "name": "ipython",
    "version": 3
   },
   "file_extension": ".py",
   "mimetype": "text/x-python",
   "name": "python",
   "nbconvert_exporter": "python",
   "pygments_lexer": "ipython3",
   "version": "3.11.5"
  },
  "orig_nbformat": 4
 },
 "nbformat": 4,
 "nbformat_minor": 2
}
