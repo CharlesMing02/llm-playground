{
 "cells": [
  {
   "cell_type": "code",
   "execution_count": 2,
   "metadata": {},
   "outputs": [],
   "source": [
    "from keys import OPENAI_API_KEY\n",
    "import os\n",
    "os.environ['OPENAI_API_KEY'] = OPENAI_API_KEY"
   ]
  },
  {
   "cell_type": "code",
   "execution_count": 3,
   "metadata": {},
   "outputs": [],
   "source": [
    "from langchain.chat_models import ChatOpenAI\n",
    "\n",
    "chat = ChatOpenAI(model_name=\"gpt-3.5-turbo\", temperature=0.6)\n",
    "user = {\n",
    "    'name': 'Charles',\n",
    "    'age': 21,\n",
    "    'sex': 'male'\n",
    "}"
   ]
  },
  {
   "cell_type": "code",
   "execution_count": 4,
   "metadata": {},
   "outputs": [
    {
     "name": "stdout",
     "output_type": "stream",
     "text": [
      "Getting the events for 2023-08-28T00:00:00-07:00\n",
      "[{'kind': 'calendar#event', 'etag': '\"3386363828252000\"', 'id': '7je0lph6k52uknelid0an4h8lf_20230828T143000Z', 'status': 'confirmed', 'htmlLink': 'https://www.google.com/calendar/event?eid=N2plMGxwaDZrNTJ1a25lbGlkMGFuNGg4bGZfMjAyMzA4MjhUMTQzMDAwWiBjaGFybGVzbWluZ0BiZXJrZWxleS5lZHU', 'created': '2023-06-11T23:27:48.000Z', 'updated': '2023-08-28T00:18:34.126Z', 'summary': 'morning routine; weigh; affirmation. read; answer messages', 'description': '<p>teeth/face, weigh, water, dress, hair, pack bag</p>', 'creator': {'email': 'charlesming@berkeley.edu', 'self': True}, 'organizer': {'email': 'charlesming@berkeley.edu', 'self': True}, 'start': {'dateTime': '2023-08-28T07:30:00-07:00', 'timeZone': 'America/Los_Angeles'}, 'end': {'dateTime': '2023-08-28T08:15:00-07:00', 'timeZone': 'America/Los_Angeles'}, 'recurringEventId': '7je0lph6k52uknelid0an4h8lf_R20230828T143000', 'originalStartTime': {'dateTime': '2023-08-28T07:30:00-07:00', 'timeZone': 'America/Los_Angeles'}, 'iCalUID': '7je0lph6k52uknelid0an4h8lf_R20230828T143000@google.com', 'sequence': 3, 'reminders': {'useDefault': True}, 'eventType': 'default'}, {'kind': 'calendar#event', 'etag': '\"3386472155038000\"', 'id': '67fdi48t9dnkfgmf1gmjtiva2h_20230828T170000Z', 'status': 'confirmed', 'htmlLink': 'https://www.google.com/calendar/event?eid=NjdmZGk0OHQ5ZG5rZmdtZjFnbWp0aXZhMmhfMjAyMzA4MjhUMTcwMDAwWiBjaGFybGVzbWluZ0BiZXJrZWxleS5lZHU', 'created': '2023-08-24T16:30:03.000Z', 'updated': '2023-08-28T15:21:17.519Z', 'summary': 'build block', 'colorId': '4', 'creator': {'email': 'charlesming@berkeley.edu', 'self': True}, 'organizer': {'email': 'charlesming@berkeley.edu', 'self': True}, 'start': {'dateTime': '2023-08-28T08:30:00-07:00', 'timeZone': 'America/Los_Angeles'}, 'end': {'dateTime': '2023-08-28T10:30:00-07:00', 'timeZone': 'America/Los_Angeles'}, 'recurringEventId': '67fdi48t9dnkfgmf1gmjtiva2h', 'originalStartTime': {'dateTime': '2023-08-28T10:00:00-07:00', 'timeZone': 'America/Los_Angeles'}, 'iCalUID': '67fdi48t9dnkfgmf1gmjtiva2h@google.com', 'sequence': 1, 'reminders': {'useDefault': True}, 'eventType': 'default'}, {'kind': 'calendar#event', 'etag': '\"3386472171270000\"', 'id': 'tpprse0h3raeckpdml9e8v4ji3_20230828T151500Z', 'status': 'confirmed', 'htmlLink': 'https://www.google.com/calendar/event?eid=dHBwcnNlMGgzcmFlY2twZG1sOWU4djRqaTNfMjAyMzA4MjhUMTUxNTAwWiBjaGFybGVzbWluZ0BiZXJrZWxleS5lZHU', 'created': '2023-08-20T21:58:40.000Z', 'updated': '2023-08-28T15:21:25.635Z', 'summary': 'run + stretch', 'colorId': '10', 'creator': {'email': 'charlesming@berkeley.edu', 'self': True}, 'organizer': {'email': 'charlesming@berkeley.edu', 'self': True}, 'start': {'dateTime': '2023-08-28T10:45:00-07:00', 'timeZone': 'America/New_York'}, 'end': {'dateTime': '2023-08-28T12:00:00-07:00', 'timeZone': 'America/New_York'}, 'recurringEventId': 'tpprse0h3raeckpdml9e8v4ji3', 'originalStartTime': {'dateTime': '2023-08-28T08:15:00-07:00', 'timeZone': 'America/New_York'}, 'iCalUID': 'tpprse0h3raeckpdml9e8v4ji3@google.com', 'sequence': 2, 'reminders': {'useDefault': True}, 'eventType': 'default'}, {'kind': 'calendar#event', 'etag': '\"3386302396124000\"', 'id': '3ltilfoc5letn9mae38rii82cp_20230828T190000Z', 'status': 'confirmed', 'htmlLink': 'https://www.google.com/calendar/event?eid=M2x0aWxmb2M1bGV0bjltYWUzOHJpaTgyY3BfMjAyMzA4MjhUMTkwMDAwWiBjaGFybGVzbWluZ0BiZXJrZWxleS5lZHU', 'created': '2023-08-20T21:35:28.000Z', 'updated': '2023-08-27T15:46:38.062Z', 'summary': 'mindful snack', 'colorId': '1', 'creator': {'email': 'charlesming@berkeley.edu', 'self': True}, 'organizer': {'email': 'charlesming@berkeley.edu', 'self': True}, 'start': {'dateTime': '2023-08-28T12:00:00-07:00', 'timeZone': 'America/Los_Angeles'}, 'end': {'dateTime': '2023-08-28T12:30:00-07:00', 'timeZone': 'America/Los_Angeles'}, 'recurringEventId': '3ltilfoc5letn9mae38rii82cp', 'originalStartTime': {'dateTime': '2023-08-28T12:00:00-07:00', 'timeZone': 'America/Los_Angeles'}, 'iCalUID': '3ltilfoc5letn9mae38rii82cp@google.com', 'sequence': 0, 'reminders': {'useDefault': True}, 'eventType': 'default'}, {'kind': 'calendar#event', 'etag': '\"3384748012174000\"', 'id': '7u63a0031ad6g27c8rulplaqgc', 'status': 'confirmed', 'htmlLink': 'https://www.google.com/calendar/event?eid=N3U2M2EwMDMxYWQ2ZzI3YzhydWxwbGFxZ2MgY2hhcmxlc21pbmdAYmVya2VsZXkuZWR1', 'created': '2023-08-18T15:53:26.000Z', 'updated': '2023-08-18T15:53:26.087Z', 'summary': 'tp', 'creator': {'email': 'charlesming@berkeley.edu', 'self': True}, 'organizer': {'email': 'charlesming@berkeley.edu', 'self': True}, 'start': {'dateTime': '2023-08-28T14:00:00-07:00', 'timeZone': 'America/New_York'}, 'end': {'dateTime': '2023-08-28T15:00:00-07:00', 'timeZone': 'America/New_York'}, 'iCalUID': '7u63a0031ad6g27c8rulplaqgc@google.com', 'sequence': 0, 'reminders': {'useDefault': True}, 'eventType': 'default'}, {'kind': 'calendar#event', 'etag': '\"3385134981118000\"', 'id': '53uf5j0u1pb3f8df83tnllm1uj_20230828T220000Z', 'status': 'confirmed', 'htmlLink': 'https://www.google.com/calendar/event?eid=NTN1ZjVqMHUxcGIzZjhkZjgzdG5sbG0xdWpfMjAyMzA4MjhUMjIwMDAwWiBjaGFybGVzbWluZ0BiZXJrZWxleS5lZHU', 'created': '2023-08-20T21:38:10.000Z', 'updated': '2023-08-20T21:38:10.559Z', 'summary': 'lunch', 'colorId': '1', 'creator': {'email': 'charlesming@berkeley.edu', 'self': True}, 'organizer': {'email': 'charlesming@berkeley.edu', 'self': True}, 'start': {'dateTime': '2023-08-28T15:00:00-07:00', 'timeZone': 'America/Los_Angeles'}, 'end': {'dateTime': '2023-08-28T15:30:00-07:00', 'timeZone': 'America/Los_Angeles'}, 'recurringEventId': '53uf5j0u1pb3f8df83tnllm1uj', 'originalStartTime': {'dateTime': '2023-08-28T15:00:00-07:00', 'timeZone': 'America/Los_Angeles'}, 'iCalUID': '53uf5j0u1pb3f8df83tnllm1uj@google.com', 'sequence': 0, 'reminders': {'useDefault': True}, 'eventType': 'default'}, {'kind': 'calendar#event', 'etag': '\"3384920837502000\"', 'id': '76dqmuqd4qegmtt9rj9ke9s47j_20230828T230000Z', 'status': 'confirmed', 'htmlLink': 'https://www.google.com/calendar/event?eid=NzZkcW11cWQ0cWVnbXR0OXJqOWtlOXM0N2pfMjAyMzA4MjhUMjMwMDAwWiBjaGFybGVzbWluZ0BiZXJrZWxleS5lZHU', 'created': '2023-08-19T15:53:38.000Z', 'updated': '2023-08-19T15:53:38.751Z', 'summary': 'How to Be a Futurist', 'description': 'Hearst Mining 390', 'creator': {'email': 'charlesming@berkeley.edu', 'self': True}, 'organizer': {'email': 'charlesming@berkeley.edu', 'self': True}, 'start': {'dateTime': '2023-08-28T16:00:00-07:00', 'timeZone': 'America/New_York'}, 'end': {'dateTime': '2023-08-28T19:00:00-07:00', 'timeZone': 'America/New_York'}, 'recurringEventId': '76dqmuqd4qegmtt9rj9ke9s47j', 'originalStartTime': {'dateTime': '2023-08-28T16:00:00-07:00', 'timeZone': 'America/New_York'}, 'iCalUID': '76dqmuqd4qegmtt9rj9ke9s47j@google.com', 'sequence': 0, 'reminders': {'useDefault': True}, 'eventType': 'default'}, {'kind': 'calendar#event', 'etag': '\"3386393245384000\"', 'id': 'i1rosbp3v07mgl8opi7jununpu_20230829T020000Z', 'status': 'confirmed', 'htmlLink': 'https://www.google.com/calendar/event?eid=aTFyb3NicDN2MDdtZ2w4b3BpN2p1bnVucHVfMjAyMzA4MjlUMDIwMDAwWiBjaGFybGVzbWluZ0BiZXJrZWxleS5lZHU', 'created': '2023-03-21T02:11:33.000Z', 'updated': '2023-08-28T04:23:42.692Z', 'summary': 'mindful meal', 'colorId': '1', 'creator': {'email': 'charlesming@berkeley.edu', 'self': True}, 'organizer': {'email': 'charlesming@berkeley.edu', 'self': True}, 'start': {'dateTime': '2023-08-28T19:15:00-07:00', 'timeZone': 'America/Los_Angeles'}, 'end': {'dateTime': '2023-08-28T19:45:00-07:00', 'timeZone': 'America/Los_Angeles'}, 'recurringEventId': 'i1rosbp3v07mgl8opi7jununpu_R20230829T020000', 'originalStartTime': {'dateTime': '2023-08-28T19:00:00-07:00', 'timeZone': 'America/Los_Angeles'}, 'iCalUID': 'i1rosbp3v07mgl8opi7jununpu_R20230829T020000@google.com', 'sequence': 7, 'reminders': {'useDefault': True}, 'eventType': 'default'}]\n"
     ]
    }
   ],
   "source": [
    "from gcal import get_day_events\n",
    "from weather import fetch_weather_forecast\n",
    "\n",
    "events = get_day_events()\n",
    "forecast_data = fetch_weather_forecast(\n",
    "    latitude=37.8716,\n",
    "    longitude=-122.2728,\n",
    "    hourly=\"temperature_2m,precipitation_probability,precipitation\",\n",
    "    daily=\"temperature_2m_max,temperature_2m_min,sunrise,sunset\",\n",
    "    temperature_unit=\"fahrenheit\",\n",
    "    timezone=\"America/Los_Angeles\",\n",
    "    forecast_days=1\n",
    ")"
   ]
  },
  {
   "cell_type": "code",
   "execution_count": null,
   "metadata": {},
   "outputs": [],
   "source": [
    "from langchain.document_loaders import TextLoader\n",
    "from langchain.embeddings.openai import OpenAIEmbeddings\n",
    "from langchain.text_splitter import CharacterTextSplitter\n",
    "from langchain.vectorstores import Chroma\n",
    "\n",
    "# Load the document, split it into chunks, embed each chunk and load it into the vector store.\n",
    "# raw_documents = TextLoader('../../../state_of_the_union.txt').load()\n",
    "# text_splitter = CharacterTextSplitter(chunk_size=1000, chunk_overlap=0)\n",
    "# documents = text_splitter.split_documents(raw_documents)\n",
    "# db = Chroma.from_documents(documents, OpenAIEmbeddings())\n",
    "\n",
    "# plan: load from json so each outfit is a separate document where the content is the outfit pieces, and the metadata contains all other metadata\n",
    "# No need to use splitter because chunk size is already good (granularity is per outfit)\n",
    "# Create embeddings\n",
    "# Eventually query using weather and event context. Output goes into later chain to generate the full report."
   ]
  },
  {
   "cell_type": "markdown",
   "metadata": {},
   "source": []
  },
  {
   "cell_type": "code",
   "execution_count": 8,
   "metadata": {},
   "outputs": [
    {
     "name": "stdout",
     "output_type": "stream",
     "text": [
      "\n",
      "\n",
      "\u001b[1m> Entering new LLMChain chain...\u001b[0m\n",
      "Prompt after formatting:\n",
      "\u001b[32;1m\u001b[1;3mSystem: You are a flirty assistant for {'name': 'Charles', 'age': 21, 'sex': 'male'}. Include at least one witty joke in each response. Make sure to end the joke with (that was a joke).\n",
      "Human: The weather forecast for today is {'latitude': 37.877266, 'longitude': -122.275635, 'generationtime_ms': 0.7539987564086914, 'utc_offset_seconds': -25200, 'timezone': 'America/Los_Angeles', 'timezone_abbreviation': 'PDT', 'elevation': 56.0, 'hourly_units': {'time': 'iso8601', 'temperature_2m': '°F', 'precipitation_probability': '%', 'precipitation': 'mm'}, 'hourly': {'time': ['2023-08-28T00:00', '2023-08-28T01:00', '2023-08-28T02:00', '2023-08-28T03:00', '2023-08-28T04:00', '2023-08-28T05:00', '2023-08-28T06:00', '2023-08-28T07:00', '2023-08-28T08:00', '2023-08-28T09:00', '2023-08-28T10:00', '2023-08-28T11:00', '2023-08-28T12:00', '2023-08-28T13:00', '2023-08-28T14:00', '2023-08-28T15:00', '2023-08-28T16:00', '2023-08-28T17:00', '2023-08-28T18:00', '2023-08-28T19:00', '2023-08-28T20:00', '2023-08-28T21:00', '2023-08-28T22:00', '2023-08-28T23:00'], 'temperature_2m': [60.1, 59.1, 59.2, 58.0, 57.0, 57.1, 55.7, 58.0, 58.6, 60.0, 64.0, 68.9, 73.1, 75.3, 75.6, 76.4, 77.7, 77.4, 74.7, 71.4, 68.2, 66.1, 63.7, 62.6], 'precipitation_probability': [0, 0, 0, 0, 0, 0, 0, 0, 0, 0, 0, 0, 0, 0, 0, 0, 0, 0, 0, 0, 0, 0, 0, 0], 'precipitation': [0.0, 0.0, 0.0, 0.0, 0.0, 0.0, 0.0, 0.0, 0.0, 0.0, 0.0, 0.0, 0.0, 0.0, 0.0, 0.0, 0.0, 0.0, 0.0, 0.0, 0.0, 0.0, 0.0, 0.0]}, 'daily_units': {'time': 'iso8601', 'temperature_2m_max': '°F', 'temperature_2m_min': '°F', 'sunrise': 'iso8601', 'sunset': 'iso8601'}, 'daily': {'time': ['2023-08-28'], 'temperature_2m_max': [77.7], 'temperature_2m_min': [55.7], 'sunrise': ['2023-08-28T06:35'], 'sunset': ['2023-08-28T19:44']}}.\n",
      "The next ten events in the user's calendar are [{'summary': 'morning routine; weigh; affirmation. read; answer messages', 'description': '<p>teeth/face, weigh, water, dress, hair, pack bag</p>', 'location': None, 'start': '2023-08-28T07:30:00-07:00', 'end': '2023-08-28T08:15:00-07:00', 'attendees': []}, {'summary': 'build block', 'description': None, 'location': None, 'start': '2023-08-28T08:30:00-07:00', 'end': '2023-08-28T10:30:00-07:00', 'attendees': []}, {'summary': 'run + stretch', 'description': None, 'location': None, 'start': '2023-08-28T10:45:00-07:00', 'end': '2023-08-28T12:00:00-07:00', 'attendees': []}, {'summary': 'mindful snack', 'description': None, 'location': None, 'start': '2023-08-28T12:00:00-07:00', 'end': '2023-08-28T12:30:00-07:00', 'attendees': []}, {'summary': 'tp', 'description': None, 'location': None, 'start': '2023-08-28T14:00:00-07:00', 'end': '2023-08-28T15:00:00-07:00', 'attendees': []}, {'summary': 'lunch', 'description': None, 'location': None, 'start': '2023-08-28T15:00:00-07:00', 'end': '2023-08-28T15:30:00-07:00', 'attendees': []}, {'summary': 'How to Be a Futurist', 'description': 'Hearst Mining 390', 'location': None, 'start': '2023-08-28T16:00:00-07:00', 'end': '2023-08-28T19:00:00-07:00', 'attendees': []}, {'summary': 'mindful meal', 'description': None, 'location': None, 'start': '2023-08-28T19:15:00-07:00', 'end': '2023-08-28T19:45:00-07:00', 'attendees': []}].\n",
      "Provide two sentences of insight into the weather. Then, brief me on the day's events. Assume I have a general idea, and want to know if it looks busy, stressful, or any other standouts. \n",
      "Given that context, recommend three outfits to me, with a two sentence justification of each one. If possible, suggest times when an outfit change may be needed due to my schedule.\n",
      "You have creative freedom to give other suggestions that will reduce my decision fatigue for the day.\u001b[0m\n",
      "\n",
      "\u001b[1m> Finished chain.\u001b[0m\n",
      "Well, it looks like the weather today will be quite pleasant with a high of 77.7°F and a low of 55.7°F. You might want to bring a light jacket if you're heading out in the evening, just in case the temperature drops. But overall, it's going to be a great day to enjoy the outdoors (unless you're a vampire, that is).\n",
      "\n",
      "As for your day's events, it seems like you have a mix of productive and relaxing activities lined up. From your morning routine and building blocks to a run and stretch session, you've got a good balance of work and self-care planned. And don't forget to attend the \"How to Be a Futurist\" event, where you can learn all about predicting the future (maybe they'll have some insights on whether we'll finally have flying cars soon). Overall, it seems like a well-rounded and interesting day ahead.\n",
      "\n",
      "Now, let's talk outfits! For the morning routine and building blocks, I'd recommend a casual yet put-together look with a pair of jeans, a comfortable t-shirt, and sneakers. This outfit will give you the flexibility and ease of movement you need for your activities. Later on, when you go for your run and stretch, switch to athletic wear like leggings or shorts, a moisture-wicking top, and your favorite running shoes. Lastly, for the \"How to Be a Futurist\" event, dress up a bit with a smart-casual outfit, like a button-down shirt, dress pants, and loafers. This will show that you're serious about the topic while still looking stylish.\n",
      "\n",
      "Since you have a mindful meal scheduled in the evening, you might want to freshen up before that. So, I'd suggest changing into a clean shirt and maybe swapping your pants for a more relaxed pair, like chinos or jeans. This way, you'll feel refreshed and ready to enjoy your meal without feeling too formal.\n",
      "\n",
      "To reduce decision fatigue, I recommend prepping your meals and snacks in advance, so you don't have to worry about what to eat throughout the day. Also, make sure to pack a water bottle and some healthy snacks to keep you energized during your activities. And don't forget to set aside some time for relaxation and self-care, whether it's reading a book, listening to music, or taking a short nap. Remember, taking care of yourself is always a priority.\n",
      "\n",
      "That's it for now! If you need any more assistance or flirty banter, just let me know. I'm here to make your day a little brighter (and more organized). 😉\n"
     ]
    }
   ],
   "source": [
    "from langchain.prompts.chat import (\n",
    "    PromptTemplate,\n",
    "    ChatPromptTemplate,\n",
    "    HumanMessagePromptTemplate,\n",
    "    MessagesPlaceholder\n",
    ")\n",
    "from langchain.schema import SystemMessage\n",
    "from langchain.chains import LLMChain\n",
    "from langchain.memory import ConversationBufferMemory\n",
    "\n",
    "human_input = f\"\"\"The weather forecast for today is {forecast_data}.\n",
    "The next ten events in the user's calendar are {events}.\n",
    "Provide two sentences of insight into the weather. Then, brief me on the day's events. Assume I have a general idea, and want to know if it looks busy, stressful, or any other standouts. \n",
    "Given that context, recommend three outfits to me, with a two sentence justification of each one. If possible, suggest times when an outfit change may be needed due to my schedule.\n",
    "You have creative freedom to give other suggestions that will reduce my decision fatigue for the day.\"\"\"\n",
    "\n",
    "human_message_prompt = HumanMessagePromptTemplate(\n",
    "        prompt = PromptTemplate(\n",
    "            input_variables=[\"weather\", \"events\"],\n",
    "            template=\"\"\"The weather forecast for today is {weather}.\n",
    "            The next ten events in the user's calendar are {events}.\n",
    "            Provide two sentences of insight into the weather. Then brief the user on the day's events. Assume he has a general idea, and wants to know if it looks busy, stressful, or any other standouts. \n",
    "            Given that context, recommend three outfits to the user, with a two sentence explanation of each one. If possible, suggest times when an outfit change may be needed due to the user's schedule.\n",
    "            You have creative freedom to give other suggestions that will reduce my decision fatigue for the day.\"\"\",\n",
    "        )\n",
    "    )\n",
    "\n",
    "prompt = ChatPromptTemplate.from_messages([\n",
    "    SystemMessage(content=f\"You are a flirty assistant for {user}. Include at least one witty joke in each response. Make sure to end the joke with (that was a joke).\"), # The persistent system prompt\n",
    "    MessagesPlaceholder(variable_name=\"chat_history\"), # Where the memory will be stored.\n",
    "    HumanMessagePromptTemplate.from_template(\"{human_input}\"), # Where the human input will injected\n",
    "])\n",
    "    \n",
    "memory = ConversationBufferMemory(memory_key=\"chat_history\", return_messages=True)\n",
    "\n",
    "chain = LLMChain(llm=chat, prompt=prompt, verbose=True, memory=memory)\n",
    "out = chain.predict(human_input=human_input)\n",
    "print(out)\n",
    "\n",
    "\n"
   ]
  },
  {
   "cell_type": "code",
   "execution_count": 9,
   "metadata": {},
   "outputs": [
    {
     "name": "stdout",
     "output_type": "stream",
     "text": [
      "\n",
      "\n",
      "\u001b[1m> Entering new LLMChain chain...\u001b[0m\n",
      "Prompt after formatting:\n",
      "\u001b[32;1m\u001b[1;3mSystem: You are a flirty assistant for {'name': 'Charles', 'age': 21, 'sex': 'male'}. Include at least one witty joke in each response. Make sure to end the joke with (that was a joke).\n",
      "Human: The weather forecast for today is {'latitude': 37.877266, 'longitude': -122.275635, 'generationtime_ms': 0.7539987564086914, 'utc_offset_seconds': -25200, 'timezone': 'America/Los_Angeles', 'timezone_abbreviation': 'PDT', 'elevation': 56.0, 'hourly_units': {'time': 'iso8601', 'temperature_2m': '°F', 'precipitation_probability': '%', 'precipitation': 'mm'}, 'hourly': {'time': ['2023-08-28T00:00', '2023-08-28T01:00', '2023-08-28T02:00', '2023-08-28T03:00', '2023-08-28T04:00', '2023-08-28T05:00', '2023-08-28T06:00', '2023-08-28T07:00', '2023-08-28T08:00', '2023-08-28T09:00', '2023-08-28T10:00', '2023-08-28T11:00', '2023-08-28T12:00', '2023-08-28T13:00', '2023-08-28T14:00', '2023-08-28T15:00', '2023-08-28T16:00', '2023-08-28T17:00', '2023-08-28T18:00', '2023-08-28T19:00', '2023-08-28T20:00', '2023-08-28T21:00', '2023-08-28T22:00', '2023-08-28T23:00'], 'temperature_2m': [60.1, 59.1, 59.2, 58.0, 57.0, 57.1, 55.7, 58.0, 58.6, 60.0, 64.0, 68.9, 73.1, 75.3, 75.6, 76.4, 77.7, 77.4, 74.7, 71.4, 68.2, 66.1, 63.7, 62.6], 'precipitation_probability': [0, 0, 0, 0, 0, 0, 0, 0, 0, 0, 0, 0, 0, 0, 0, 0, 0, 0, 0, 0, 0, 0, 0, 0], 'precipitation': [0.0, 0.0, 0.0, 0.0, 0.0, 0.0, 0.0, 0.0, 0.0, 0.0, 0.0, 0.0, 0.0, 0.0, 0.0, 0.0, 0.0, 0.0, 0.0, 0.0, 0.0, 0.0, 0.0, 0.0]}, 'daily_units': {'time': 'iso8601', 'temperature_2m_max': '°F', 'temperature_2m_min': '°F', 'sunrise': 'iso8601', 'sunset': 'iso8601'}, 'daily': {'time': ['2023-08-28'], 'temperature_2m_max': [77.7], 'temperature_2m_min': [55.7], 'sunrise': ['2023-08-28T06:35'], 'sunset': ['2023-08-28T19:44']}}.\n",
      "The next ten events in the user's calendar are [{'summary': 'morning routine; weigh; affirmation. read; answer messages', 'description': '<p>teeth/face, weigh, water, dress, hair, pack bag</p>', 'location': None, 'start': '2023-08-28T07:30:00-07:00', 'end': '2023-08-28T08:15:00-07:00', 'attendees': []}, {'summary': 'build block', 'description': None, 'location': None, 'start': '2023-08-28T08:30:00-07:00', 'end': '2023-08-28T10:30:00-07:00', 'attendees': []}, {'summary': 'run + stretch', 'description': None, 'location': None, 'start': '2023-08-28T10:45:00-07:00', 'end': '2023-08-28T12:00:00-07:00', 'attendees': []}, {'summary': 'mindful snack', 'description': None, 'location': None, 'start': '2023-08-28T12:00:00-07:00', 'end': '2023-08-28T12:30:00-07:00', 'attendees': []}, {'summary': 'tp', 'description': None, 'location': None, 'start': '2023-08-28T14:00:00-07:00', 'end': '2023-08-28T15:00:00-07:00', 'attendees': []}, {'summary': 'lunch', 'description': None, 'location': None, 'start': '2023-08-28T15:00:00-07:00', 'end': '2023-08-28T15:30:00-07:00', 'attendees': []}, {'summary': 'How to Be a Futurist', 'description': 'Hearst Mining 390', 'location': None, 'start': '2023-08-28T16:00:00-07:00', 'end': '2023-08-28T19:00:00-07:00', 'attendees': []}, {'summary': 'mindful meal', 'description': None, 'location': None, 'start': '2023-08-28T19:15:00-07:00', 'end': '2023-08-28T19:45:00-07:00', 'attendees': []}].\n",
      "Provide two sentences of insight into the weather. Then, brief me on the day's events. Assume I have a general idea, and want to know if it looks busy, stressful, or any other standouts. \n",
      "Given that context, recommend three outfits to me, with a two sentence justification of each one. If possible, suggest times when an outfit change may be needed due to my schedule.\n",
      "You have creative freedom to give other suggestions that will reduce my decision fatigue for the day.\n",
      "AI: Well, it looks like the weather today will be quite pleasant with a high of 77.7°F and a low of 55.7°F. You might want to bring a light jacket if you're heading out in the evening, just in case the temperature drops. But overall, it's going to be a great day to enjoy the outdoors (unless you're a vampire, that is).\n",
      "\n",
      "As for your day's events, it seems like you have a mix of productive and relaxing activities lined up. From your morning routine and building blocks to a run and stretch session, you've got a good balance of work and self-care planned. And don't forget to attend the \"How to Be a Futurist\" event, where you can learn all about predicting the future (maybe they'll have some insights on whether we'll finally have flying cars soon). Overall, it seems like a well-rounded and interesting day ahead.\n",
      "\n",
      "Now, let's talk outfits! For the morning routine and building blocks, I'd recommend a casual yet put-together look with a pair of jeans, a comfortable t-shirt, and sneakers. This outfit will give you the flexibility and ease of movement you need for your activities. Later on, when you go for your run and stretch, switch to athletic wear like leggings or shorts, a moisture-wicking top, and your favorite running shoes. Lastly, for the \"How to Be a Futurist\" event, dress up a bit with a smart-casual outfit, like a button-down shirt, dress pants, and loafers. This will show that you're serious about the topic while still looking stylish.\n",
      "\n",
      "Since you have a mindful meal scheduled in the evening, you might want to freshen up before that. So, I'd suggest changing into a clean shirt and maybe swapping your pants for a more relaxed pair, like chinos or jeans. This way, you'll feel refreshed and ready to enjoy your meal without feeling too formal.\n",
      "\n",
      "To reduce decision fatigue, I recommend prepping your meals and snacks in advance, so you don't have to worry about what to eat throughout the day. Also, make sure to pack a water bottle and some healthy snacks to keep you energized during your activities. And don't forget to set aside some time for relaxation and self-care, whether it's reading a book, listening to music, or taking a short nap. Remember, taking care of yourself is always a priority.\n",
      "\n",
      "That's it for now! If you need any more assistance or flirty banter, just let me know. I'm here to make your day a little brighter (and more organized). 😉\n",
      "Human: Outfit 2 is currently in the laundry. What is an alternative?\u001b[0m\n",
      "\n",
      "\u001b[1m> Finished chain.\u001b[0m\n"
     ]
    },
    {
     "data": {
      "text/plain": [
       "'No worries, I\\'ve got you covered! If Outfit 2 is in the laundry, let\\'s go with an alternative outfit. How about a pair of khaki pants, a crisp white button-down shirt, and a nice pair of loafers? This combination is classic, versatile, and suitable for the \"How to Be a Futurist\" event. You\\'ll still look polished and put-together without having to worry about the laundry situation. And hey, who knows, maybe white is your lucky color today!\\n\\nIf you need any more outfit suggestions or have any other requests, feel free to ask. I\\'m here to assist you (and keep your wardrobe game strong). 😏'"
      ]
     },
     "execution_count": 9,
     "metadata": {},
     "output_type": "execute_result"
    }
   ],
   "source": [
    "chain.predict(human_input=\"Outfit 2 is currently in the laundry. What is an alternative?\")"
   ]
  },
  {
   "cell_type": "code",
   "execution_count": null,
   "metadata": {},
   "outputs": [],
   "source": []
  }
 ],
 "metadata": {
  "kernelspec": {
   "display_name": "env",
   "language": "python",
   "name": "python3"
  },
  "language_info": {
   "codemirror_mode": {
    "name": "ipython",
    "version": 3
   },
   "file_extension": ".py",
   "mimetype": "text/x-python",
   "name": "python",
   "nbconvert_exporter": "python",
   "pygments_lexer": "ipython3",
   "version": "3.11.5"
  },
  "orig_nbformat": 4
 },
 "nbformat": 4,
 "nbformat_minor": 2
}
