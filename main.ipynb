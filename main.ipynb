{
 "cells": [
  {
   "cell_type": "code",
   "execution_count": 6,
   "metadata": {},
   "outputs": [
    {
     "name": "stdout",
     "output_type": "stream",
     "text": [
      "hi\n"
     ]
    }
   ],
   "source": [
    "from keys import OPENAI_API_KEY\n",
    "import os\n",
    "os.environ['OPENAI_API_KEY'] = OPENAI_API_KEY\n",
    "print(\"hi\")"
   ]
  },
  {
   "cell_type": "code",
   "execution_count": 7,
   "metadata": {},
   "outputs": [
    {
     "name": "stdout",
     "output_type": "stream",
     "text": [
      "\"I am capable, confident, and deserving of all the happiness and success that comes my way. Today, I choose to embrace positivity, overcome challenges, and create a fulfilling life. I am grateful for the opportunities that lie ahead, and I trust myself to make the most of them. I am ready to seize the day with enthusiasm, kindness, and a positive mindset.\"\n"
     ]
    }
   ],
   "source": [
    "from langchain.chat_models import ChatOpenAI\n",
    "\n",
    "chat = ChatOpenAI(model_name=\"gpt-3.5-turbo\", temperature=0.6)\n",
    "affirmation = chat.predict(\"Give me a daily affirmation I should say to start my day.\")\n",
    "print(affirmation)"
   ]
  },
  {
   "cell_type": "markdown",
   "metadata": {},
   "source": []
  },
  {
   "cell_type": "code",
   "execution_count": 9,
   "metadata": {},
   "outputs": [
    {
     "name": "stdout",
     "output_type": "stream",
     "text": [
      "Getting the events for 2023-08-28T00:00:00-07:00\n",
      "[{'kind': 'calendar#event', 'etag': '\"3386363828252000\"', 'id': '7je0lph6k52uknelid0an4h8lf_20230828T143000Z', 'status': 'confirmed', 'htmlLink': 'https://www.google.com/calendar/event?eid=N2plMGxwaDZrNTJ1a25lbGlkMGFuNGg4bGZfMjAyMzA4MjhUMTQzMDAwWiBjaGFybGVzbWluZ0BiZXJrZWxleS5lZHU', 'created': '2023-06-11T23:27:48.000Z', 'updated': '2023-08-28T00:18:34.126Z', 'summary': 'morning routine; weigh; affirmation. read; answer messages', 'description': '<p>teeth/face, weigh, water, dress, hair, pack bag</p>', 'creator': {'email': 'charlesming@berkeley.edu', 'self': True}, 'organizer': {'email': 'charlesming@berkeley.edu', 'self': True}, 'start': {'dateTime': '2023-08-28T07:30:00-07:00', 'timeZone': 'America/Los_Angeles'}, 'end': {'dateTime': '2023-08-28T08:15:00-07:00', 'timeZone': 'America/Los_Angeles'}, 'recurringEventId': '7je0lph6k52uknelid0an4h8lf_R20230828T143000', 'originalStartTime': {'dateTime': '2023-08-28T07:30:00-07:00', 'timeZone': 'America/Los_Angeles'}, 'iCalUID': '7je0lph6k52uknelid0an4h8lf_R20230828T143000@google.com', 'sequence': 3, 'reminders': {'useDefault': True}, 'eventType': 'default'}, {'kind': 'calendar#event', 'etag': '\"3386472155038000\"', 'id': '67fdi48t9dnkfgmf1gmjtiva2h_20230828T170000Z', 'status': 'confirmed', 'htmlLink': 'https://www.google.com/calendar/event?eid=NjdmZGk0OHQ5ZG5rZmdtZjFnbWp0aXZhMmhfMjAyMzA4MjhUMTcwMDAwWiBjaGFybGVzbWluZ0BiZXJrZWxleS5lZHU', 'created': '2023-08-24T16:30:03.000Z', 'updated': '2023-08-28T15:21:17.519Z', 'summary': 'build block', 'colorId': '4', 'creator': {'email': 'charlesming@berkeley.edu', 'self': True}, 'organizer': {'email': 'charlesming@berkeley.edu', 'self': True}, 'start': {'dateTime': '2023-08-28T08:30:00-07:00', 'timeZone': 'America/Los_Angeles'}, 'end': {'dateTime': '2023-08-28T10:30:00-07:00', 'timeZone': 'America/Los_Angeles'}, 'recurringEventId': '67fdi48t9dnkfgmf1gmjtiva2h', 'originalStartTime': {'dateTime': '2023-08-28T10:00:00-07:00', 'timeZone': 'America/Los_Angeles'}, 'iCalUID': '67fdi48t9dnkfgmf1gmjtiva2h@google.com', 'sequence': 1, 'reminders': {'useDefault': True}, 'eventType': 'default'}, {'kind': 'calendar#event', 'etag': '\"3386472171270000\"', 'id': 'tpprse0h3raeckpdml9e8v4ji3_20230828T151500Z', 'status': 'confirmed', 'htmlLink': 'https://www.google.com/calendar/event?eid=dHBwcnNlMGgzcmFlY2twZG1sOWU4djRqaTNfMjAyMzA4MjhUMTUxNTAwWiBjaGFybGVzbWluZ0BiZXJrZWxleS5lZHU', 'created': '2023-08-20T21:58:40.000Z', 'updated': '2023-08-28T15:21:25.635Z', 'summary': 'run + stretch', 'colorId': '10', 'creator': {'email': 'charlesming@berkeley.edu', 'self': True}, 'organizer': {'email': 'charlesming@berkeley.edu', 'self': True}, 'start': {'dateTime': '2023-08-28T10:45:00-07:00', 'timeZone': 'America/New_York'}, 'end': {'dateTime': '2023-08-28T12:00:00-07:00', 'timeZone': 'America/New_York'}, 'recurringEventId': 'tpprse0h3raeckpdml9e8v4ji3', 'originalStartTime': {'dateTime': '2023-08-28T08:15:00-07:00', 'timeZone': 'America/New_York'}, 'iCalUID': 'tpprse0h3raeckpdml9e8v4ji3@google.com', 'sequence': 2, 'reminders': {'useDefault': True}, 'eventType': 'default'}, {'kind': 'calendar#event', 'etag': '\"3386302396124000\"', 'id': '3ltilfoc5letn9mae38rii82cp_20230828T190000Z', 'status': 'confirmed', 'htmlLink': 'https://www.google.com/calendar/event?eid=M2x0aWxmb2M1bGV0bjltYWUzOHJpaTgyY3BfMjAyMzA4MjhUMTkwMDAwWiBjaGFybGVzbWluZ0BiZXJrZWxleS5lZHU', 'created': '2023-08-20T21:35:28.000Z', 'updated': '2023-08-27T15:46:38.062Z', 'summary': 'mindful snack', 'colorId': '1', 'creator': {'email': 'charlesming@berkeley.edu', 'self': True}, 'organizer': {'email': 'charlesming@berkeley.edu', 'self': True}, 'start': {'dateTime': '2023-08-28T12:00:00-07:00', 'timeZone': 'America/Los_Angeles'}, 'end': {'dateTime': '2023-08-28T12:30:00-07:00', 'timeZone': 'America/Los_Angeles'}, 'recurringEventId': '3ltilfoc5letn9mae38rii82cp', 'originalStartTime': {'dateTime': '2023-08-28T12:00:00-07:00', 'timeZone': 'America/Los_Angeles'}, 'iCalUID': '3ltilfoc5letn9mae38rii82cp@google.com', 'sequence': 0, 'reminders': {'useDefault': True}, 'eventType': 'default'}, {'kind': 'calendar#event', 'etag': '\"3384748012174000\"', 'id': '7u63a0031ad6g27c8rulplaqgc', 'status': 'confirmed', 'htmlLink': 'https://www.google.com/calendar/event?eid=N3U2M2EwMDMxYWQ2ZzI3YzhydWxwbGFxZ2MgY2hhcmxlc21pbmdAYmVya2VsZXkuZWR1', 'created': '2023-08-18T15:53:26.000Z', 'updated': '2023-08-18T15:53:26.087Z', 'summary': 'tp', 'creator': {'email': 'charlesming@berkeley.edu', 'self': True}, 'organizer': {'email': 'charlesming@berkeley.edu', 'self': True}, 'start': {'dateTime': '2023-08-28T14:00:00-07:00', 'timeZone': 'America/New_York'}, 'end': {'dateTime': '2023-08-28T15:00:00-07:00', 'timeZone': 'America/New_York'}, 'iCalUID': '7u63a0031ad6g27c8rulplaqgc@google.com', 'sequence': 0, 'reminders': {'useDefault': True}, 'eventType': 'default'}, {'kind': 'calendar#event', 'etag': '\"3385134981118000\"', 'id': '53uf5j0u1pb3f8df83tnllm1uj_20230828T220000Z', 'status': 'confirmed', 'htmlLink': 'https://www.google.com/calendar/event?eid=NTN1ZjVqMHUxcGIzZjhkZjgzdG5sbG0xdWpfMjAyMzA4MjhUMjIwMDAwWiBjaGFybGVzbWluZ0BiZXJrZWxleS5lZHU', 'created': '2023-08-20T21:38:10.000Z', 'updated': '2023-08-20T21:38:10.559Z', 'summary': 'lunch', 'colorId': '1', 'creator': {'email': 'charlesming@berkeley.edu', 'self': True}, 'organizer': {'email': 'charlesming@berkeley.edu', 'self': True}, 'start': {'dateTime': '2023-08-28T15:00:00-07:00', 'timeZone': 'America/Los_Angeles'}, 'end': {'dateTime': '2023-08-28T15:30:00-07:00', 'timeZone': 'America/Los_Angeles'}, 'recurringEventId': '53uf5j0u1pb3f8df83tnllm1uj', 'originalStartTime': {'dateTime': '2023-08-28T15:00:00-07:00', 'timeZone': 'America/Los_Angeles'}, 'iCalUID': '53uf5j0u1pb3f8df83tnllm1uj@google.com', 'sequence': 0, 'reminders': {'useDefault': True}, 'eventType': 'default'}, {'kind': 'calendar#event', 'etag': '\"3384920837502000\"', 'id': '76dqmuqd4qegmtt9rj9ke9s47j_20230828T230000Z', 'status': 'confirmed', 'htmlLink': 'https://www.google.com/calendar/event?eid=NzZkcW11cWQ0cWVnbXR0OXJqOWtlOXM0N2pfMjAyMzA4MjhUMjMwMDAwWiBjaGFybGVzbWluZ0BiZXJrZWxleS5lZHU', 'created': '2023-08-19T15:53:38.000Z', 'updated': '2023-08-19T15:53:38.751Z', 'summary': 'How to Be a Futurist', 'description': 'Hearst Mining 390', 'creator': {'email': 'charlesming@berkeley.edu', 'self': True}, 'organizer': {'email': 'charlesming@berkeley.edu', 'self': True}, 'start': {'dateTime': '2023-08-28T16:00:00-07:00', 'timeZone': 'America/New_York'}, 'end': {'dateTime': '2023-08-28T19:00:00-07:00', 'timeZone': 'America/New_York'}, 'recurringEventId': '76dqmuqd4qegmtt9rj9ke9s47j', 'originalStartTime': {'dateTime': '2023-08-28T16:00:00-07:00', 'timeZone': 'America/New_York'}, 'iCalUID': '76dqmuqd4qegmtt9rj9ke9s47j@google.com', 'sequence': 0, 'reminders': {'useDefault': True}, 'eventType': 'default'}, {'kind': 'calendar#event', 'etag': '\"3386393245384000\"', 'id': 'i1rosbp3v07mgl8opi7jununpu_20230829T020000Z', 'status': 'confirmed', 'htmlLink': 'https://www.google.com/calendar/event?eid=aTFyb3NicDN2MDdtZ2w4b3BpN2p1bnVucHVfMjAyMzA4MjlUMDIwMDAwWiBjaGFybGVzbWluZ0BiZXJrZWxleS5lZHU', 'created': '2023-03-21T02:11:33.000Z', 'updated': '2023-08-28T04:23:42.692Z', 'summary': 'mindful meal', 'colorId': '1', 'creator': {'email': 'charlesming@berkeley.edu', 'self': True}, 'organizer': {'email': 'charlesming@berkeley.edu', 'self': True}, 'start': {'dateTime': '2023-08-28T19:15:00-07:00', 'timeZone': 'America/Los_Angeles'}, 'end': {'dateTime': '2023-08-28T19:45:00-07:00', 'timeZone': 'America/Los_Angeles'}, 'recurringEventId': 'i1rosbp3v07mgl8opi7jununpu_R20230829T020000', 'originalStartTime': {'dateTime': '2023-08-28T19:00:00-07:00', 'timeZone': 'America/Los_Angeles'}, 'iCalUID': 'i1rosbp3v07mgl8opi7jununpu_R20230829T020000@google.com', 'sequence': 7, 'reminders': {'useDefault': True}, 'eventType': 'default'}]\n",
      "Insight into the weather: Today in America/Los_Angeles, the temperature will range from a cool 55.7°F to a warm 77.7°F. There is no expected precipitation, so it should be a dry day.\n",
      "\n",
      "Brief on the day's events: The user has a relatively busy day ahead. They have a morning routine scheduled from 7:30 am to 8:15 am, followed by a block building session from 8:30 am to 10:30 am. After that, they have a run and stretch session from 10:45 am to 12:00 pm. A mindful snack is scheduled for 12:00 pm to 12:30 pm, followed by a TP session from 2:00 pm to 3:00 pm. Lunch is scheduled from 3:00 pm to 3:30 pm. The user will then attend a session on \"How to Be a Futurist\" from 4:00 pm to 7:00 pm. Lastly, they have a mindful meal scheduled from 7:15 pm to 7:45 pm.\n",
      "\n",
      "Outfit recommendations:\n",
      "1. Morning Routine and Block Building: For the morning routine and block building session, it would be best to wear comfortable and casual clothing such as athletic wear or jeans and a t-shirt. This outfit will allow for ease of movement during the activities.\n",
      "2. Run and Stretch: For the run and stretch session, it would be ideal to wear moisture-wicking athletic wear and running shoes. This will provide the necessary comfort and support for physical activity.\n",
      "3. \"How to Be a Futurist\" Session and Mindful Meal: For the \"How to Be a Futurist\" session and mindful meal, it would be appropriate to wear smart casual attire. Opt for a nice pair of pants or a skirt, paired with a blouse or a button-down shirt. This outfit will give a professional yet relaxed look.\n",
      "\n",
      "Possible outfit change: Depending on the user's preference and comfort level, they may consider changing into more formal attire for the \"How to Be a Futurist\" session if they want to make a good impression or if the event has a dress code.\n",
      "\n",
      "Additional suggestion: To reduce decision fatigue, it may be helpful for the user to prepare their outfits and pack their bag the night before. This will save time and make the morning routine smoother.\n"
     ]
    }
   ],
   "source": [
    "from langchain.prompts.chat import (\n",
    "    PromptTemplate,\n",
    "    ChatPromptTemplate,\n",
    "    HumanMessagePromptTemplate\n",
    ")\n",
    "from langchain.chains import LLMChain\n",
    "from gcal import get_day_events\n",
    "from weather import fetch_weather_forecast\n",
    "\n",
    "events = get_day_events()\n",
    "forecast_data = fetch_weather_forecast(\n",
    "    latitude=37.8716,\n",
    "    longitude=-122.2728,\n",
    "    hourly=\"temperature_2m,precipitation_probability,precipitation\",\n",
    "    daily=\"temperature_2m_max,temperature_2m_min,sunrise,sunset\",\n",
    "    temperature_unit=\"fahrenheit\",\n",
    "    timezone=\"America/Los_Angeles\",\n",
    "    forecast_days=1\n",
    ")\n",
    "\n",
    "human_message_prompt = HumanMessagePromptTemplate(\n",
    "        prompt = PromptTemplate(\n",
    "            input_variables=[\"weather\", \"events\"],\n",
    "            template=\"\"\"The weather forecast for today is {weather}.\n",
    "            The next ten events in the user's calendar are {events}.\n",
    "            Provide two sentences of insight into the weather. Then brief the user on the day's events. Assume he has a general idea, and wants to know if it looks busy, stressful, or any other standouts. \n",
    "            Given that context, recommend three outfits to the user, with a two sentence explanation of each one. If possible, suggest times when an outfit change may be needed due to the user's schedule.\n",
    "            You have creative freedom to give other suggestions that will reduce my decision fatigue for the day.\"\"\",\n",
    "        )\n",
    "    )\n",
    "chat_prompt_template = ChatPromptTemplate.from_messages([human_message_prompt])\n",
    "chain = LLMChain(llm=chat, prompt=chat_prompt_template)\n",
    "print(chain.run({\n",
    "    \"weather\": forecast_data,\n",
    "    \"events\": events}))\n",
    "\n"
   ]
  },
  {
   "cell_type": "code",
   "execution_count": null,
   "metadata": {},
   "outputs": [],
   "source": []
  }
 ],
 "metadata": {
  "kernelspec": {
   "display_name": "env",
   "language": "python",
   "name": "python3"
  },
  "language_info": {
   "codemirror_mode": {
    "name": "ipython",
    "version": 3
   },
   "file_extension": ".py",
   "mimetype": "text/x-python",
   "name": "python",
   "nbconvert_exporter": "python",
   "pygments_lexer": "ipython3",
   "version": "3.11.5"
  },
  "orig_nbformat": 4
 },
 "nbformat": 4,
 "nbformat_minor": 2
}
