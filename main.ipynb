{
 "cells": [
  {
   "cell_type": "code",
   "execution_count": 1,
   "metadata": {},
   "outputs": [
    {
     "name": "stdout",
     "output_type": "stream",
     "text": [
      "hi\n"
     ]
    }
   ],
   "source": [
    "from keys import OPENAI_API_KEY\n",
    "import os\n",
    "os.environ['OPENAI_API_KEY'] = OPENAI_API_KEY\n",
    "print(\"hi\")"
   ]
  },
  {
   "cell_type": "code",
   "execution_count": 9,
   "metadata": {},
   "outputs": [
    {
     "name": "stdout",
     "output_type": "stream",
     "text": [
      "\"I am capable, confident, and worthy of all the good things that come my way. Today, I choose to embrace positivity, seize opportunities, and create a fulfilling and successful day.\"\n"
     ]
    }
   ],
   "source": [
    "from langchain.chat_models import ChatOpenAI\n",
    "\n",
    "chat = ChatOpenAI(model_name=\"gpt-3.5-turbo\", temperature=0.6)\n",
    "affirmation = chat.predict(\"Give me a daily affirmation I should say to start my day.\")\n",
    "print(affirmation)"
   ]
  },
  {
   "cell_type": "markdown",
   "metadata": {},
   "source": []
  },
  {
   "cell_type": "code",
   "execution_count": 11,
   "metadata": {},
   "outputs": [
    {
     "name": "stdout",
     "output_type": "stream",
     "text": [
      "With sunny weather and an average temperature of 30 degrees Fahrenheit, you can expect a chilly but pleasant day. Here are three outfit suggestions:\n",
      "\n",
      "1. Outfit: Cozy Layers\n",
      "   - Pair a chunky knit sweater with jeans and ankle boots. Layer it with a warm coat, a scarf, and a beanie to stay snug throughout the day.\n",
      "   - This outfit is perfect for the chilly weather as it combines cozy layers to keep you warm while still looking stylish and comfortable.\n",
      "\n",
      "2. Outfit: Casual Chic\n",
      "   - Opt for a long-sleeved midi dress with tights and ankle boots. Add a leather jacket and accessorize with a statement necklace for a trendy yet effortless look.\n",
      "   - This outfit strikes a balance between style and comfort, allowing you to embrace the sunny day while staying warm and fashionable.\n",
      "\n",
      "3. Outfit: Sporty Comfort\n",
      "   - Choose a pair of high-waisted leggings, a lightweight sweatshirt, and sneakers. Layer it with a windbreaker jacket and a baseball cap to shield yourself from the cool breeze.\n",
      "   - This outfit is perfect for those who prefer a more athletic look, providing comfort and flexibility while ensuring you stay warm and protected from the elements.\n",
      "\n",
      "Remember to adjust your outfit according to your personal style, preferences, and the specific activities you'll be engaging in throughout the day.\n"
     ]
    }
   ],
   "source": [
    "from langchain.prompts.chat import (\n",
    "    PromptTemplate,\n",
    "    ChatPromptTemplate,\n",
    "    HumanMessagePromptTemplate\n",
    ")\n",
    "from langchain.chains import LLMChain\n",
    "\n",
    "human_message_prompt = HumanMessagePromptTemplate(\n",
    "        prompt = PromptTemplate(\n",
    "            input_variables=[\"weather\"],\n",
    "            template=\"\"\"The weather forecast for today is {weather}. \n",
    "            Provide insight into the weather, then suggest three outfits to me, with a two sentence explanation of each one.\"\"\",\n",
    "        )\n",
    "    )\n",
    "chat_prompt_template = ChatPromptTemplate.from_messages([human_message_prompt])\n",
    "chain = LLMChain(llm=chat, prompt=chat_prompt_template)\n",
    "print(chain.run(\"Sunny with an average of 30 degrees Fahrenheit\"))\n",
    "\n"
   ]
  },
  {
   "cell_type": "code",
   "execution_count": null,
   "metadata": {},
   "outputs": [],
   "source": []
  }
 ],
 "metadata": {
  "kernelspec": {
   "display_name": "env",
   "language": "python",
   "name": "python3"
  },
  "language_info": {
   "codemirror_mode": {
    "name": "ipython",
    "version": 3
   },
   "file_extension": ".py",
   "mimetype": "text/x-python",
   "name": "python",
   "nbconvert_exporter": "python",
   "pygments_lexer": "ipython3",
   "version": "3.11.5"
  },
  "orig_nbformat": 4
 },
 "nbformat": 4,
 "nbformat_minor": 2
}
